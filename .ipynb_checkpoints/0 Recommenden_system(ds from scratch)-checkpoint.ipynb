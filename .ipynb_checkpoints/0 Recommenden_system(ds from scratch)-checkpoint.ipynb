{
 "cells": [
  {
   "cell_type": "markdown",
   "metadata": {},
   "source": [
    "Recommending System"
   ]
  },
  {
   "cell_type": "code",
   "execution_count": 1,
   "metadata": {},
   "outputs": [],
   "source": [
    "\n",
    "users_interests = [[\"Hadoop\", \"Big Data\", \"HBase\", \"Java\", \"Spark\",\"Storm\", \"Cassandra\"],\n",
    "                   [\"NoSQL\", \"MongoDB\", \"Cassandra\", \"HBase\",\"Postgres\"],\n",
    "                   [\"Python\", \"scikit-learn\", \"scipy\", \"numpy\", \"statsmodels\", \"pandas\"],\n",
    "                   [\"R\", \"Python\", \"statistics\", \"regression\", \"probability\"],\n",
    "                   [\"machine learning\", \"regression\", \"decision trees\", \"libsvm\"],\n",
    "                   [\"Python\", \"R\", \"Java\", \"C++\", \"Haskell\", \"programming languages\"],\n",
    "                   [\"statistics\", \"probability\", \"mathematics\", \"theory\"],\n",
    "                   [\"machine learning\", \"scikit-learn\", \"Mahout\", \"neural networks\"],\n",
    "                   [\"neural networks\", \"deep learning\", \"Big Data\", \"artificial intelligence\"],\n",
    "                   [\"Hadoop\", \"Java\", \"MapReduce\", \"Big Data\"],\n",
    "                   [\"statistics\", \"R\", \"statsmodels\"],\n",
    "                   [\"C++\", \"deep learning\", \"artificial intelligence\", \"probability\"],\n",
    "                   [\"pandas\", \"R\", \"Python\"],\n",
    "                   [\"databases\", \"HBase\", \"Postgres\", \"MySQL\", \"MongoDB\"],\n",
    "                   [\"libsvm\", \"regression\", \"support vector machines\"]]"
   ]
  },
  {
   "cell_type": "markdown",
   "metadata": {},
   "source": [
    "## Recommending what's popular"
   ]
  },
  {
   "cell_type": "code",
   "execution_count": 2,
   "metadata": {},
   "outputs": [],
   "source": [
    "from collections import Counter"
   ]
  },
  {
   "cell_type": "code",
   "execution_count": 3,
   "metadata": {},
   "outputs": [],
   "source": [
    "popular_interests = Counter(interest\n",
    "                        for user_interests in users_interests\n",
    "                        for interest in user_interests)"
   ]
  },
  {
   "cell_type": "code",
   "execution_count": 4,
   "metadata": {},
   "outputs": [
    {
     "data": {
      "text/plain": [
       "[('Python', 4), ('R', 4), ('Big Data', 3), ('HBase', 3), ('Java', 3)]"
      ]
     },
     "execution_count": 4,
     "metadata": {},
     "output_type": "execute_result"
    }
   ],
   "source": [
    "popular_interests.most_common()[:5]"
   ]
  },
  {
   "cell_type": "code",
   "execution_count": 5,
   "metadata": {},
   "outputs": [],
   "source": [
    "from typing import List, Tuple"
   ]
  },
  {
   "cell_type": "code",
   "execution_count": 8,
   "metadata": {},
   "outputs": [],
   "source": [
    "def most_popular_new_interestes(\n",
    "    user_interest: List[str], max_result: int = 5) -> List[Tuple[str, int]]:\n",
    "\n",
    "    suggestions = [interest\n",
    "                   for interest, _ in popular_interests.most_common()\n",
    "                   if interest not in user_interest]\n",
    "    \n",
    "    return suggestions[:max_result]\n"
   ]
  },
  {
   "cell_type": "code",
   "execution_count": 9,
   "metadata": {},
   "outputs": [
    {
     "data": {
      "text/plain": [
       "['Python', 'R', 'Big Data', 'HBase', 'Java']"
      ]
     },
     "execution_count": 9,
     "metadata": {},
     "output_type": "execute_result"
    }
   ],
   "source": [
    "most_popular_new_interestes([users_interests[4]])"
   ]
  },
  {
   "cell_type": "code",
   "execution_count": null,
   "metadata": {},
   "outputs": [],
   "source": []
  }
 ],
 "metadata": {
  "kernelspec": {
   "display_name": "Python 3",
   "language": "python",
   "name": "python3"
  },
  "language_info": {
   "codemirror_mode": {
    "name": "ipython",
    "version": 3
   },
   "file_extension": ".py",
   "mimetype": "text/x-python",
   "name": "python",
   "nbconvert_exporter": "python",
   "pygments_lexer": "ipython3",
   "version": "3.8.5"
  }
 },
 "nbformat": 4,
 "nbformat_minor": 4
}
